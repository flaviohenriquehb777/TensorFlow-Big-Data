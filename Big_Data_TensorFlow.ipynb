{
  "nbformat": 4,
  "nbformat_minor": 0,
  "metadata": {
    "colab": {
      "provenance": [],
      "authorship_tag": "ABX9TyOBED+srSKmRQCn+Qs5awxI",
      "include_colab_link": true
    },
    "kernelspec": {
      "name": "python3",
      "display_name": "Python 3"
    },
    "language_info": {
      "name": "python"
    }
  },
  "cells": [
    {
      "cell_type": "markdown",
      "metadata": {
        "id": "view-in-github",
        "colab_type": "text"
      },
      "source": [
        "<a href=\"https://colab.research.google.com/github/flaviohenriquehb777/TensorFlow-Big-Data/blob/main/Big_Data_TensorFlow.ipynb\" target=\"_parent\"><img src=\"https://colab.research.google.com/assets/colab-badge.svg\" alt=\"Open In Colab\"/></a>"
      ]
    },
    {
      "cell_type": "code",
      "execution_count": 1,
      "metadata": {
        "colab": {
          "base_uri": "https://localhost:8080/"
        },
        "id": "dq4gwGn3NOKO",
        "outputId": "78ed4d88-9904-4c25-e577-3f1e587f5657"
      },
      "outputs": [
        {
          "output_type": "stream",
          "name": "stdout",
          "text": [
            "Looking in indexes: https://pypi.org/simple, https://us-python.pkg.dev/colab-wheels/public/simple/\n",
            "Requirement already satisfied: tensorflow in /usr/local/lib/python3.9/dist-packages (2.11.0)\n",
            "Requirement already satisfied: packaging in /usr/local/lib/python3.9/dist-packages (from tensorflow) (23.0)\n",
            "Requirement already satisfied: six>=1.12.0 in /usr/local/lib/python3.9/dist-packages (from tensorflow) (1.15.0)\n",
            "Requirement already satisfied: typing-extensions>=3.6.6 in /usr/local/lib/python3.9/dist-packages (from tensorflow) (4.5.0)\n",
            "Requirement already satisfied: termcolor>=1.1.0 in /usr/local/lib/python3.9/dist-packages (from tensorflow) (2.2.0)\n",
            "Requirement already satisfied: gast<=0.4.0,>=0.2.1 in /usr/local/lib/python3.9/dist-packages (from tensorflow) (0.4.0)\n",
            "Requirement already satisfied: setuptools in /usr/local/lib/python3.9/dist-packages (from tensorflow) (63.4.3)\n",
            "Requirement already satisfied: protobuf<3.20,>=3.9.2 in /usr/local/lib/python3.9/dist-packages (from tensorflow) (3.19.6)\n",
            "Requirement already satisfied: keras<2.12,>=2.11.0 in /usr/local/lib/python3.9/dist-packages (from tensorflow) (2.11.0)\n",
            "Requirement already satisfied: h5py>=2.9.0 in /usr/local/lib/python3.9/dist-packages (from tensorflow) (3.1.0)\n",
            "Requirement already satisfied: wrapt>=1.11.0 in /usr/local/lib/python3.9/dist-packages (from tensorflow) (1.15.0)\n",
            "Requirement already satisfied: tensorflow-estimator<2.12,>=2.11.0 in /usr/local/lib/python3.9/dist-packages (from tensorflow) (2.11.0)\n",
            "Requirement already satisfied: astunparse>=1.6.0 in /usr/local/lib/python3.9/dist-packages (from tensorflow) (1.6.3)\n",
            "Requirement already satisfied: absl-py>=1.0.0 in /usr/local/lib/python3.9/dist-packages (from tensorflow) (1.4.0)\n",
            "Requirement already satisfied: grpcio<2.0,>=1.24.3 in /usr/local/lib/python3.9/dist-packages (from tensorflow) (1.51.3)\n",
            "Requirement already satisfied: google-pasta>=0.1.1 in /usr/local/lib/python3.9/dist-packages (from tensorflow) (0.2.0)\n",
            "Requirement already satisfied: numpy>=1.20 in /usr/local/lib/python3.9/dist-packages (from tensorflow) (1.22.4)\n",
            "Requirement already satisfied: opt-einsum>=2.3.2 in /usr/local/lib/python3.9/dist-packages (from tensorflow) (3.3.0)\n",
            "Requirement already satisfied: tensorboard<2.12,>=2.11 in /usr/local/lib/python3.9/dist-packages (from tensorflow) (2.11.2)\n",
            "Requirement already satisfied: flatbuffers>=2.0 in /usr/local/lib/python3.9/dist-packages (from tensorflow) (23.3.3)\n",
            "Requirement already satisfied: tensorflow-io-gcs-filesystem>=0.23.1 in /usr/local/lib/python3.9/dist-packages (from tensorflow) (0.31.0)\n",
            "Requirement already satisfied: libclang>=13.0.0 in /usr/local/lib/python3.9/dist-packages (from tensorflow) (15.0.6.1)\n",
            "Requirement already satisfied: wheel<1.0,>=0.23.0 in /usr/local/lib/python3.9/dist-packages (from astunparse>=1.6.0->tensorflow) (0.38.4)\n",
            "Requirement already satisfied: werkzeug>=1.0.1 in /usr/local/lib/python3.9/dist-packages (from tensorboard<2.12,>=2.11->tensorflow) (2.2.3)\n",
            "Requirement already satisfied: google-auth-oauthlib<0.5,>=0.4.1 in /usr/local/lib/python3.9/dist-packages (from tensorboard<2.12,>=2.11->tensorflow) (0.4.6)\n",
            "Requirement already satisfied: tensorboard-plugin-wit>=1.6.0 in /usr/local/lib/python3.9/dist-packages (from tensorboard<2.12,>=2.11->tensorflow) (1.8.1)\n",
            "Requirement already satisfied: google-auth<3,>=1.6.3 in /usr/local/lib/python3.9/dist-packages (from tensorboard<2.12,>=2.11->tensorflow) (2.16.2)\n",
            "Requirement already satisfied: markdown>=2.6.8 in /usr/local/lib/python3.9/dist-packages (from tensorboard<2.12,>=2.11->tensorflow) (3.4.1)\n",
            "Requirement already satisfied: requests<3,>=2.21.0 in /usr/local/lib/python3.9/dist-packages (from tensorboard<2.12,>=2.11->tensorflow) (2.25.1)\n",
            "Requirement already satisfied: tensorboard-data-server<0.7.0,>=0.6.0 in /usr/local/lib/python3.9/dist-packages (from tensorboard<2.12,>=2.11->tensorflow) (0.6.1)\n",
            "Requirement already satisfied: rsa<5,>=3.1.4 in /usr/local/lib/python3.9/dist-packages (from google-auth<3,>=1.6.3->tensorboard<2.12,>=2.11->tensorflow) (4.9)\n",
            "Requirement already satisfied: pyasn1-modules>=0.2.1 in /usr/local/lib/python3.9/dist-packages (from google-auth<3,>=1.6.3->tensorboard<2.12,>=2.11->tensorflow) (0.2.8)\n",
            "Requirement already satisfied: cachetools<6.0,>=2.0.0 in /usr/local/lib/python3.9/dist-packages (from google-auth<3,>=1.6.3->tensorboard<2.12,>=2.11->tensorflow) (5.3.0)\n",
            "Requirement already satisfied: requests-oauthlib>=0.7.0 in /usr/local/lib/python3.9/dist-packages (from google-auth-oauthlib<0.5,>=0.4.1->tensorboard<2.12,>=2.11->tensorflow) (1.3.1)\n",
            "Requirement already satisfied: importlib-metadata>=4.4 in /usr/local/lib/python3.9/dist-packages (from markdown>=2.6.8->tensorboard<2.12,>=2.11->tensorflow) (6.0.0)\n",
            "Requirement already satisfied: chardet<5,>=3.0.2 in /usr/local/lib/python3.9/dist-packages (from requests<3,>=2.21.0->tensorboard<2.12,>=2.11->tensorflow) (4.0.0)\n",
            "Requirement already satisfied: urllib3<1.27,>=1.21.1 in /usr/local/lib/python3.9/dist-packages (from requests<3,>=2.21.0->tensorboard<2.12,>=2.11->tensorflow) (1.26.15)\n",
            "Requirement already satisfied: certifi>=2017.4.17 in /usr/local/lib/python3.9/dist-packages (from requests<3,>=2.21.0->tensorboard<2.12,>=2.11->tensorflow) (2022.12.7)\n",
            "Requirement already satisfied: idna<3,>=2.5 in /usr/local/lib/python3.9/dist-packages (from requests<3,>=2.21.0->tensorboard<2.12,>=2.11->tensorflow) (2.10)\n",
            "Requirement already satisfied: MarkupSafe>=2.1.1 in /usr/local/lib/python3.9/dist-packages (from werkzeug>=1.0.1->tensorboard<2.12,>=2.11->tensorflow) (2.1.2)\n",
            "Requirement already satisfied: zipp>=0.5 in /usr/local/lib/python3.9/dist-packages (from importlib-metadata>=4.4->markdown>=2.6.8->tensorboard<2.12,>=2.11->tensorflow) (3.15.0)\n",
            "Requirement already satisfied: pyasn1<0.5.0,>=0.4.6 in /usr/local/lib/python3.9/dist-packages (from pyasn1-modules>=0.2.1->google-auth<3,>=1.6.3->tensorboard<2.12,>=2.11->tensorflow) (0.4.8)\n",
            "Requirement already satisfied: oauthlib>=3.0.0 in /usr/local/lib/python3.9/dist-packages (from requests-oauthlib>=0.7.0->google-auth-oauthlib<0.5,>=0.4.1->tensorboard<2.12,>=2.11->tensorflow) (3.2.2)\n"
          ]
        }
      ],
      "source": [
        "pip install --upgrade tensorflow"
      ]
    },
    {
      "cell_type": "code",
      "source": [
        "pip install keras"
      ],
      "metadata": {
        "colab": {
          "base_uri": "https://localhost:8080/"
        },
        "id": "GC2WBwf0NdRl",
        "outputId": "04fa0d41-1e8b-430b-8e4e-072b5afe9795"
      },
      "execution_count": 4,
      "outputs": [
        {
          "output_type": "stream",
          "name": "stdout",
          "text": [
            "Looking in indexes: https://pypi.org/simple, https://us-python.pkg.dev/colab-wheels/public/simple/\n",
            "Requirement already satisfied: keras in /usr/local/lib/python3.9/dist-packages (2.11.0)\n"
          ]
        }
      ]
    },
    {
      "cell_type": "code",
      "source": [
        "from sklearn.preprocessing import LabelBinarizer\n",
        "from sklearn.metrics import classification_report\n",
        "from tensorflow.keras.models import Sequential\n",
        "from tensorflow.keras.layers import Dense\n",
        "from tensorflow.keras.optimizers import SGD\n",
        "from tensorflow.keras.datasets import mnist\n",
        "from tensorflow.keras import backend as K\n",
        "import matplotlib.pyplot as plt\n",
        "import numpy as np"
      ],
      "metadata": {
        "id": "La7sBEg0Ndbv"
      },
      "execution_count": 5,
      "outputs": []
    },
    {
      "cell_type": "code",
      "source": [
        "print('[INFO] accessing MNIST...')\n",
        "((trainX, trainY), (testX, testY)) = mnist.load_data()"
      ],
      "metadata": {
        "colab": {
          "base_uri": "https://localhost:8080/"
        },
        "id": "PpYxMwfPNdiw",
        "outputId": "c0a0624f-a424-4ced-ca19-7dd2f32cc0b8"
      },
      "execution_count": 8,
      "outputs": [
        {
          "output_type": "stream",
          "name": "stdout",
          "text": [
            "[INFO] accessing MNIST...\n"
          ]
        }
      ]
    },
    {
      "cell_type": "code",
      "source": [
        "trainX = trainX.reshape((trainX.shape[0], 28 * 28 * 1))\n",
        "testX = testX.reshape((testX.shape[0], 28 * 28 * 1))\n",
        "trainX = trainX.astype('float32') / 255.0\n",
        "testX = testX.astype('float32') / 255.0"
      ],
      "metadata": {
        "id": "PbG7AvhpNdrI"
      },
      "execution_count": 9,
      "outputs": []
    },
    {
      "cell_type": "code",
      "source": [
        "lb = LabelBinarizer()\n",
        "trainY = lb.fit_transform(trainY)\n",
        "testY = lb.transform(testY)"
      ],
      "metadata": {
        "id": "S5U-7bSuNdyR"
      },
      "execution_count": 10,
      "outputs": []
    },
    {
      "cell_type": "code",
      "source": [
        "model = Sequential()\n",
        "model.add(Dense(256, input_shape=(784,), activation='sigmoid'))\n",
        "model.add(Dense(128, activation='sigmoid'))\n",
        "model.add(Dense(10, activation='softmax'))"
      ],
      "metadata": {
        "id": "X8t08sw_Nd5s"
      },
      "execution_count": 11,
      "outputs": []
    },
    {
      "cell_type": "code",
      "source": [
        "sgd = SGD(0.01)\n",
        "model.compile(loss='categorical_crossentropy', optimizer=sgd,metrics=['accuracy'])\n",
        "H = model.fit(trainX, trainY, validation_data=(testX, testY),epochs=100, batch_size=128)"
      ],
      "metadata": {
        "colab": {
          "base_uri": "https://localhost:8080/"
        },
        "id": "ytcJaTanNeAA",
        "outputId": "007c9066-ba6f-400d-97a5-d86a8921d0b9"
      },
      "execution_count": 12,
      "outputs": [
        {
          "output_type": "stream",
          "name": "stdout",
          "text": [
            "Epoch 1/100\n",
            "469/469 [==============================] - 5s 9ms/step - loss: 2.2789 - accuracy: 0.1973 - val_loss: 2.2350 - val_accuracy: 0.3793\n",
            "Epoch 2/100\n",
            "469/469 [==============================] - 5s 10ms/step - loss: 2.2013 - accuracy: 0.4192 - val_loss: 2.1576 - val_accuracy: 0.5315\n",
            "Epoch 3/100\n",
            "469/469 [==============================] - 4s 8ms/step - loss: 2.1103 - accuracy: 0.5270 - val_loss: 2.0466 - val_accuracy: 0.6231\n",
            "Epoch 4/100\n",
            "469/469 [==============================] - 4s 7ms/step - loss: 1.9775 - accuracy: 0.5849 - val_loss: 1.8848 - val_accuracy: 0.6316\n",
            "Epoch 5/100\n",
            "469/469 [==============================] - 4s 8ms/step - loss: 1.7914 - accuracy: 0.6243 - val_loss: 1.6726 - val_accuracy: 0.6564\n",
            "Epoch 6/100\n",
            "469/469 [==============================] - 4s 9ms/step - loss: 1.5704 - accuracy: 0.6598 - val_loss: 1.4463 - val_accuracy: 0.6933\n",
            "Epoch 7/100\n",
            "469/469 [==============================] - 4s 8ms/step - loss: 1.3575 - accuracy: 0.6987 - val_loss: 1.2495 - val_accuracy: 0.7162\n",
            "Epoch 8/100\n",
            "469/469 [==============================] - 3s 7ms/step - loss: 1.1820 - accuracy: 0.7340 - val_loss: 1.0946 - val_accuracy: 0.7574\n",
            "Epoch 9/100\n",
            "469/469 [==============================] - 5s 10ms/step - loss: 1.0462 - accuracy: 0.7614 - val_loss: 0.9760 - val_accuracy: 0.7868\n",
            "Epoch 10/100\n",
            "469/469 [==============================] - 4s 8ms/step - loss: 0.9407 - accuracy: 0.7828 - val_loss: 0.8827 - val_accuracy: 0.8008\n",
            "Epoch 11/100\n",
            "469/469 [==============================] - 4s 8ms/step - loss: 0.8570 - accuracy: 0.8005 - val_loss: 0.8074 - val_accuracy: 0.8149\n",
            "Epoch 12/100\n",
            "469/469 [==============================] - 5s 10ms/step - loss: 0.7887 - accuracy: 0.8138 - val_loss: 0.7452 - val_accuracy: 0.8257\n",
            "Epoch 13/100\n",
            "469/469 [==============================] - 3s 7ms/step - loss: 0.7318 - accuracy: 0.8256 - val_loss: 0.6938 - val_accuracy: 0.8374\n",
            "Epoch 14/100\n",
            "469/469 [==============================] - 3s 7ms/step - loss: 0.6838 - accuracy: 0.8353 - val_loss: 0.6491 - val_accuracy: 0.8450\n",
            "Epoch 15/100\n",
            "469/469 [==============================] - 4s 8ms/step - loss: 0.6431 - accuracy: 0.8432 - val_loss: 0.6113 - val_accuracy: 0.8539\n",
            "Epoch 16/100\n",
            "469/469 [==============================] - 4s 9ms/step - loss: 0.6083 - accuracy: 0.8502 - val_loss: 0.5788 - val_accuracy: 0.8590\n",
            "Epoch 17/100\n",
            "469/469 [==============================] - 4s 7ms/step - loss: 0.5784 - accuracy: 0.8556 - val_loss: 0.5507 - val_accuracy: 0.8638\n",
            "Epoch 18/100\n",
            "469/469 [==============================] - 4s 8ms/step - loss: 0.5524 - accuracy: 0.8608 - val_loss: 0.5267 - val_accuracy: 0.8664\n",
            "Epoch 19/100\n",
            "469/469 [==============================] - 5s 10ms/step - loss: 0.5300 - accuracy: 0.8650 - val_loss: 0.5054 - val_accuracy: 0.8728\n",
            "Epoch 20/100\n",
            "469/469 [==============================] - 4s 8ms/step - loss: 0.5103 - accuracy: 0.8691 - val_loss: 0.4875 - val_accuracy: 0.8745\n",
            "Epoch 21/100\n",
            "469/469 [==============================] - 4s 8ms/step - loss: 0.4930 - accuracy: 0.8725 - val_loss: 0.4711 - val_accuracy: 0.8785\n",
            "Epoch 22/100\n",
            "469/469 [==============================] - 5s 10ms/step - loss: 0.4778 - accuracy: 0.8753 - val_loss: 0.4566 - val_accuracy: 0.8800\n",
            "Epoch 23/100\n",
            "469/469 [==============================] - 4s 8ms/step - loss: 0.4643 - accuracy: 0.8777 - val_loss: 0.4443 - val_accuracy: 0.8836\n",
            "Epoch 24/100\n",
            "469/469 [==============================] - 4s 7ms/step - loss: 0.4522 - accuracy: 0.8797 - val_loss: 0.4327 - val_accuracy: 0.8857\n",
            "Epoch 25/100\n",
            "469/469 [==============================] - 4s 8ms/step - loss: 0.4414 - accuracy: 0.8820 - val_loss: 0.4230 - val_accuracy: 0.8865\n",
            "Epoch 26/100\n",
            "469/469 [==============================] - 4s 9ms/step - loss: 0.4316 - accuracy: 0.8840 - val_loss: 0.4136 - val_accuracy: 0.8882\n",
            "Epoch 27/100\n",
            "469/469 [==============================] - 4s 7ms/step - loss: 0.4228 - accuracy: 0.8859 - val_loss: 0.4053 - val_accuracy: 0.8898\n",
            "Epoch 28/100\n",
            "469/469 [==============================] - 3s 7ms/step - loss: 0.4147 - accuracy: 0.8875 - val_loss: 0.3977 - val_accuracy: 0.8903\n",
            "Epoch 29/100\n",
            "469/469 [==============================] - 5s 10ms/step - loss: 0.4074 - accuracy: 0.8888 - val_loss: 0.3913 - val_accuracy: 0.8924\n",
            "Epoch 30/100\n",
            "469/469 [==============================] - 4s 8ms/step - loss: 0.4007 - accuracy: 0.8905 - val_loss: 0.3846 - val_accuracy: 0.8934\n",
            "Epoch 31/100\n",
            "469/469 [==============================] - 4s 8ms/step - loss: 0.3945 - accuracy: 0.8916 - val_loss: 0.3788 - val_accuracy: 0.8940\n",
            "Epoch 32/100\n",
            "469/469 [==============================] - 4s 9ms/step - loss: 0.3889 - accuracy: 0.8930 - val_loss: 0.3739 - val_accuracy: 0.8953\n",
            "Epoch 33/100\n",
            "469/469 [==============================] - 4s 8ms/step - loss: 0.3836 - accuracy: 0.8939 - val_loss: 0.3687 - val_accuracy: 0.8962\n",
            "Epoch 34/100\n",
            "469/469 [==============================] - 4s 8ms/step - loss: 0.3787 - accuracy: 0.8946 - val_loss: 0.3641 - val_accuracy: 0.8981\n",
            "Epoch 35/100\n",
            "469/469 [==============================] - 4s 8ms/step - loss: 0.3742 - accuracy: 0.8960 - val_loss: 0.3597 - val_accuracy: 0.8986\n",
            "Epoch 36/100\n",
            "469/469 [==============================] - 4s 9ms/step - loss: 0.3699 - accuracy: 0.8967 - val_loss: 0.3557 - val_accuracy: 0.8998\n",
            "Epoch 37/100\n",
            "469/469 [==============================] - 4s 9ms/step - loss: 0.3658 - accuracy: 0.8974 - val_loss: 0.3525 - val_accuracy: 0.9001\n",
            "Epoch 38/100\n",
            "469/469 [==============================] - 4s 8ms/step - loss: 0.3621 - accuracy: 0.8982 - val_loss: 0.3486 - val_accuracy: 0.9012\n",
            "Epoch 39/100\n",
            "469/469 [==============================] - 5s 10ms/step - loss: 0.3585 - accuracy: 0.8989 - val_loss: 0.3454 - val_accuracy: 0.9018\n",
            "Epoch 40/100\n",
            "469/469 [==============================] - 3s 7ms/step - loss: 0.3552 - accuracy: 0.8996 - val_loss: 0.3426 - val_accuracy: 0.9023\n",
            "Epoch 41/100\n",
            "469/469 [==============================] - 4s 8ms/step - loss: 0.3520 - accuracy: 0.9006 - val_loss: 0.3394 - val_accuracy: 0.9039\n",
            "Epoch 42/100\n",
            "469/469 [==============================] - 5s 10ms/step - loss: 0.3490 - accuracy: 0.9012 - val_loss: 0.3363 - val_accuracy: 0.9042\n",
            "Epoch 43/100\n",
            "469/469 [==============================] - 4s 8ms/step - loss: 0.3460 - accuracy: 0.9020 - val_loss: 0.3340 - val_accuracy: 0.9052\n",
            "Epoch 44/100\n",
            "469/469 [==============================] - 3s 7ms/step - loss: 0.3433 - accuracy: 0.9024 - val_loss: 0.3311 - val_accuracy: 0.9056\n",
            "Epoch 45/100\n",
            "469/469 [==============================] - 4s 9ms/step - loss: 0.3407 - accuracy: 0.9032 - val_loss: 0.3285 - val_accuracy: 0.9071\n",
            "Epoch 46/100\n",
            "469/469 [==============================] - 4s 9ms/step - loss: 0.3381 - accuracy: 0.9038 - val_loss: 0.3261 - val_accuracy: 0.9064\n",
            "Epoch 47/100\n",
            "469/469 [==============================] - 4s 7ms/step - loss: 0.3358 - accuracy: 0.9046 - val_loss: 0.3240 - val_accuracy: 0.9071\n",
            "Epoch 48/100\n",
            "469/469 [==============================] - 4s 7ms/step - loss: 0.3334 - accuracy: 0.9048 - val_loss: 0.3217 - val_accuracy: 0.9078\n",
            "Epoch 49/100\n",
            "469/469 [==============================] - 5s 10ms/step - loss: 0.3312 - accuracy: 0.9052 - val_loss: 0.3197 - val_accuracy: 0.9088\n",
            "Epoch 50/100\n",
            "469/469 [==============================] - 4s 9ms/step - loss: 0.3290 - accuracy: 0.9062 - val_loss: 0.3175 - val_accuracy: 0.9090\n",
            "Epoch 51/100\n",
            "469/469 [==============================] - 4s 8ms/step - loss: 0.3270 - accuracy: 0.9063 - val_loss: 0.3161 - val_accuracy: 0.9093\n",
            "Epoch 52/100\n",
            "469/469 [==============================] - 5s 10ms/step - loss: 0.3250 - accuracy: 0.9068 - val_loss: 0.3144 - val_accuracy: 0.9092\n",
            "Epoch 53/100\n",
            "469/469 [==============================] - 4s 8ms/step - loss: 0.3231 - accuracy: 0.9075 - val_loss: 0.3123 - val_accuracy: 0.9104\n",
            "Epoch 54/100\n",
            "469/469 [==============================] - 4s 8ms/step - loss: 0.3211 - accuracy: 0.9077 - val_loss: 0.3100 - val_accuracy: 0.9113\n",
            "Epoch 55/100\n",
            "469/469 [==============================] - 4s 9ms/step - loss: 0.3193 - accuracy: 0.9087 - val_loss: 0.3090 - val_accuracy: 0.9118\n",
            "Epoch 56/100\n",
            "469/469 [==============================] - 4s 9ms/step - loss: 0.3176 - accuracy: 0.9089 - val_loss: 0.3073 - val_accuracy: 0.9117\n",
            "Epoch 57/100\n",
            "469/469 [==============================] - 4s 8ms/step - loss: 0.3159 - accuracy: 0.9093 - val_loss: 0.3058 - val_accuracy: 0.9121\n",
            "Epoch 58/100\n",
            "469/469 [==============================] - 3s 7ms/step - loss: 0.3142 - accuracy: 0.9100 - val_loss: 0.3046 - val_accuracy: 0.9130\n",
            "Epoch 59/100\n",
            "469/469 [==============================] - 5s 10ms/step - loss: 0.3125 - accuracy: 0.9102 - val_loss: 0.3028 - val_accuracy: 0.9137\n",
            "Epoch 60/100\n",
            "469/469 [==============================] - 3s 7ms/step - loss: 0.3110 - accuracy: 0.9107 - val_loss: 0.3013 - val_accuracy: 0.9134\n",
            "Epoch 61/100\n",
            "469/469 [==============================] - 3s 7ms/step - loss: 0.3094 - accuracy: 0.9108 - val_loss: 0.2998 - val_accuracy: 0.9128\n",
            "Epoch 62/100\n",
            "469/469 [==============================] - 4s 9ms/step - loss: 0.3079 - accuracy: 0.9113 - val_loss: 0.2986 - val_accuracy: 0.9139\n",
            "Epoch 63/100\n",
            "469/469 [==============================] - 4s 8ms/step - loss: 0.3065 - accuracy: 0.9119 - val_loss: 0.2970 - val_accuracy: 0.9156\n",
            "Epoch 64/100\n",
            "469/469 [==============================] - 4s 8ms/step - loss: 0.3050 - accuracy: 0.9123 - val_loss: 0.2959 - val_accuracy: 0.9147\n",
            "Epoch 65/100\n",
            "469/469 [==============================] - 3s 7ms/step - loss: 0.3036 - accuracy: 0.9129 - val_loss: 0.2945 - val_accuracy: 0.9166\n",
            "Epoch 66/100\n",
            "469/469 [==============================] - 5s 10ms/step - loss: 0.3022 - accuracy: 0.9129 - val_loss: 0.2930 - val_accuracy: 0.9149\n",
            "Epoch 67/100\n",
            "469/469 [==============================] - 4s 8ms/step - loss: 0.3008 - accuracy: 0.9133 - val_loss: 0.2921 - val_accuracy: 0.9151\n",
            "Epoch 68/100\n",
            "469/469 [==============================] - 4s 7ms/step - loss: 0.2995 - accuracy: 0.9140 - val_loss: 0.2906 - val_accuracy: 0.9162\n",
            "Epoch 69/100\n",
            "469/469 [==============================] - 5s 10ms/step - loss: 0.2983 - accuracy: 0.9140 - val_loss: 0.2898 - val_accuracy: 0.9164\n",
            "Epoch 70/100\n",
            "469/469 [==============================] - 3s 7ms/step - loss: 0.2970 - accuracy: 0.9147 - val_loss: 0.2883 - val_accuracy: 0.9172\n",
            "Epoch 71/100\n",
            "469/469 [==============================] - 4s 7ms/step - loss: 0.2957 - accuracy: 0.9148 - val_loss: 0.2880 - val_accuracy: 0.9165\n",
            "Epoch 72/100\n",
            "469/469 [==============================] - 4s 8ms/step - loss: 0.2945 - accuracy: 0.9155 - val_loss: 0.2866 - val_accuracy: 0.9178\n",
            "Epoch 73/100\n",
            "469/469 [==============================] - 4s 9ms/step - loss: 0.2933 - accuracy: 0.9154 - val_loss: 0.2855 - val_accuracy: 0.9185\n",
            "Epoch 74/100\n",
            "469/469 [==============================] - 4s 8ms/step - loss: 0.2921 - accuracy: 0.9156 - val_loss: 0.2841 - val_accuracy: 0.9181\n",
            "Epoch 75/100\n",
            "469/469 [==============================] - 4s 8ms/step - loss: 0.2910 - accuracy: 0.9161 - val_loss: 0.2830 - val_accuracy: 0.9191\n",
            "Epoch 76/100\n",
            "469/469 [==============================] - 5s 10ms/step - loss: 0.2898 - accuracy: 0.9168 - val_loss: 0.2820 - val_accuracy: 0.9201\n",
            "Epoch 77/100\n",
            "469/469 [==============================] - 4s 8ms/step - loss: 0.2885 - accuracy: 0.9168 - val_loss: 0.2817 - val_accuracy: 0.9198\n",
            "Epoch 78/100\n",
            "469/469 [==============================] - 4s 8ms/step - loss: 0.2876 - accuracy: 0.9171 - val_loss: 0.2800 - val_accuracy: 0.9205\n",
            "Epoch 79/100\n",
            "469/469 [==============================] - 5s 10ms/step - loss: 0.2865 - accuracy: 0.9175 - val_loss: 0.2792 - val_accuracy: 0.9203\n",
            "Epoch 80/100\n",
            "469/469 [==============================] - 4s 8ms/step - loss: 0.2854 - accuracy: 0.9175 - val_loss: 0.2781 - val_accuracy: 0.9204\n",
            "Epoch 81/100\n",
            "469/469 [==============================] - 4s 8ms/step - loss: 0.2844 - accuracy: 0.9176 - val_loss: 0.2774 - val_accuracy: 0.9211\n",
            "Epoch 82/100\n",
            "469/469 [==============================] - 4s 8ms/step - loss: 0.2833 - accuracy: 0.9184 - val_loss: 0.2759 - val_accuracy: 0.9206\n",
            "Epoch 83/100\n",
            "469/469 [==============================] - 4s 9ms/step - loss: 0.2822 - accuracy: 0.9181 - val_loss: 0.2754 - val_accuracy: 0.9220\n",
            "Epoch 84/100\n",
            "469/469 [==============================] - 4s 8ms/step - loss: 0.2812 - accuracy: 0.9188 - val_loss: 0.2747 - val_accuracy: 0.9213\n",
            "Epoch 85/100\n",
            "469/469 [==============================] - 4s 8ms/step - loss: 0.2803 - accuracy: 0.9188 - val_loss: 0.2736 - val_accuracy: 0.9219\n",
            "Epoch 86/100\n",
            "469/469 [==============================] - 5s 10ms/step - loss: 0.2792 - accuracy: 0.9191 - val_loss: 0.2722 - val_accuracy: 0.9225\n",
            "Epoch 87/100\n",
            "469/469 [==============================] - 4s 8ms/step - loss: 0.2782 - accuracy: 0.9198 - val_loss: 0.2717 - val_accuracy: 0.9231\n",
            "Epoch 88/100\n",
            "469/469 [==============================] - 4s 8ms/step - loss: 0.2773 - accuracy: 0.9201 - val_loss: 0.2714 - val_accuracy: 0.9228\n",
            "Epoch 89/100\n",
            "469/469 [==============================] - 4s 9ms/step - loss: 0.2763 - accuracy: 0.9201 - val_loss: 0.2700 - val_accuracy: 0.9219\n",
            "Epoch 90/100\n",
            "469/469 [==============================] - 4s 8ms/step - loss: 0.2753 - accuracy: 0.9202 - val_loss: 0.2692 - val_accuracy: 0.9238\n",
            "Epoch 91/100\n",
            "469/469 [==============================] - 4s 8ms/step - loss: 0.2744 - accuracy: 0.9205 - val_loss: 0.2686 - val_accuracy: 0.9236\n",
            "Epoch 92/100\n",
            "469/469 [==============================] - 4s 9ms/step - loss: 0.2734 - accuracy: 0.9206 - val_loss: 0.2676 - val_accuracy: 0.9234\n",
            "Epoch 93/100\n",
            "469/469 [==============================] - 4s 10ms/step - loss: 0.2726 - accuracy: 0.9211 - val_loss: 0.2665 - val_accuracy: 0.9240\n",
            "Epoch 94/100\n",
            "469/469 [==============================] - 4s 8ms/step - loss: 0.2716 - accuracy: 0.9216 - val_loss: 0.2658 - val_accuracy: 0.9245\n",
            "Epoch 95/100\n",
            "469/469 [==============================] - 4s 9ms/step - loss: 0.2707 - accuracy: 0.9215 - val_loss: 0.2650 - val_accuracy: 0.9238\n",
            "Epoch 96/100\n",
            "469/469 [==============================] - 5s 10ms/step - loss: 0.2698 - accuracy: 0.9218 - val_loss: 0.2644 - val_accuracy: 0.9249\n",
            "Epoch 97/100\n",
            "469/469 [==============================] - 4s 8ms/step - loss: 0.2689 - accuracy: 0.9222 - val_loss: 0.2638 - val_accuracy: 0.9247\n",
            "Epoch 98/100\n",
            "469/469 [==============================] - 4s 8ms/step - loss: 0.2680 - accuracy: 0.9223 - val_loss: 0.2630 - val_accuracy: 0.9252\n",
            "Epoch 99/100\n",
            "469/469 [==============================] - 5s 11ms/step - loss: 0.2672 - accuracy: 0.9227 - val_loss: 0.2619 - val_accuracy: 0.9255\n",
            "Epoch 100/100\n",
            "469/469 [==============================] - 4s 8ms/step - loss: 0.2662 - accuracy: 0.9227 - val_loss: 0.2611 - val_accuracy: 0.9254\n"
          ]
        }
      ]
    },
    {
      "cell_type": "code",
      "source": [
        "predictions = model.predict(testX, batch_size=128)\n",
        "print(classification_report(testY.argmax(axis=1), predictions.argmax(axis=1), target_names=[str(x) for x in lb.classes_]))"
      ],
      "metadata": {
        "colab": {
          "base_uri": "https://localhost:8080/"
        },
        "id": "TDLY58BBNeGA",
        "outputId": "533f483b-756c-4a22-c798-d6eb806dfc80"
      },
      "execution_count": 13,
      "outputs": [
        {
          "output_type": "stream",
          "name": "stdout",
          "text": [
            "79/79 [==============================] - 1s 7ms/step\n",
            "              precision    recall  f1-score   support\n",
            "\n",
            "           0       0.94      0.98      0.96       980\n",
            "           1       0.97      0.98      0.97      1135\n",
            "           2       0.93      0.91      0.92      1032\n",
            "           3       0.91      0.91      0.91      1010\n",
            "           4       0.92      0.93      0.93       982\n",
            "           5       0.89      0.87      0.88       892\n",
            "           6       0.94      0.95      0.94       958\n",
            "           7       0.94      0.92      0.93      1028\n",
            "           8       0.90      0.89      0.89       974\n",
            "           9       0.90      0.91      0.91      1009\n",
            "\n",
            "    accuracy                           0.93     10000\n",
            "   macro avg       0.92      0.92      0.92     10000\n",
            "weighted avg       0.93      0.93      0.93     10000\n",
            "\n"
          ]
        }
      ]
    },
    {
      "cell_type": "code",
      "source": [
        "plt.style.use('ggplot')\n",
        "plt.figure()\n",
        "plt.plot(np.arange(0, 100), H.history['loss'], label='train_loss')\n",
        "plt.plot(np.arange(0, 100), H.history['val_loss'], label='val_loss')\n",
        "plt.plot(np.arange(0, 100), H.history['accuracy'], label='train_acc')\n",
        "plt.plot(np.arange(0, 100), H.history['val_accuracy'], label='val_acc')\n",
        "plt.title('Training Loss and Accuracy')\n",
        "plt.xlabel('Epoch #')\n",
        "plt.ylabel('Loss/Accuracy')\n",
        "plt.legend();"
      ],
      "metadata": {
        "colab": {
          "base_uri": "https://localhost:8080/",
          "height": 299
        },
        "id": "iwX2tZdbNeL4",
        "outputId": "9b16194f-e4c3-4c7b-a2f5-bb8a17da520d"
      },
      "execution_count": 15,
      "outputs": [
        {
          "output_type": "display_data",
          "data": {
            "text/plain": [
              "<Figure size 432x288 with 1 Axes>"
            ],
            "image/png": "[encoded data removed]"
          },
          "metadata": {}
        }
      ]
    }
  ]
}